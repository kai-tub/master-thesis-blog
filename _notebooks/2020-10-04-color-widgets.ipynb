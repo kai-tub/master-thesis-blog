{
 "cells": [
  {
   "cell_type": "markdown",
   "metadata": {},
   "source": [
    "# Color widgets\n",
    "> Two widgets to play around with channels in images.\n",
    "\n",
    "- toc: false\n",
    "- hide: false\n",
    "- badges: false\n",
    "- comments: true\n",
    "- categories: widgets"
   ]
  },
  {
   "cell_type": "markdown",
   "metadata": {},
   "source": [
    "# About\n",
    "\n",
    "In the previous two posts, we looked at grayscale images, which used a single channel, RGB images with three channels, and at multi-spectral images with various channels. I provided _Python_ image generating code\n",
    "to be copied and executed locally or ran as notebooks via the badges on *binder* or *Colab*. But, it may not be as useful for people without a programming background. In my opinion, it is crucial to visualize and\n",
    "interact with technical topics to get a _better feel_ for it or to be\n",
    "able to look at it from a different angle.\n",
    "\n",
    "Therefore, I will try to introduce some *widgets* from time to time.\n",
    "Due to hosting limitations, these will be slow and may not look as polished *but* they are free of charge for me and allow you to interact with the written widgets. :)\n",
    "\n",
    "It took me some time to find a viable solution, so the widgets are posted separately. I will show both widgets here for quick access, but I will also add them to the previous posts, where they belong.\n",
    "\n",
    "> Note: Sometimes the initialization of the widgets hang. The best solution I found was reopening the same page in _Incognito Mode_ and reloading the page. It can take up to a minute until the widgets are loaded."
   ]
  },
  {
   "cell_type": "markdown",
   "metadata": {},
   "source": [
    "<iframe src=\"https://kai-tub.github.io/master-thesis-blog/widgets/grayscale_widget.html\" title=\"Inline interactive notebook\" allowfullscreen=\"true\" width=\"100%\" height=\"800\" style=\"border:0\"></iframe>"
   ]
  },
  {
   "cell_type": "markdown",
   "metadata": {},
   "source": [
    "<iframe src=\"https://kai-tub.github.io/master-thesis-blog/widgets/rgb_widget.html\" title=\"Inline interactive notebook\" allowfullscreen=\"true\" width=\"100%\" height=\"900\" style=\"border:0\"></iframe>"
   ]
  },
  {
   "cell_type": "code",
   "execution_count": null,
   "metadata": {},
   "outputs": [],
   "source": []
  }
 ],
 "metadata": {
  "kernelspec": {
   "display_name": "Python [conda env:myfastai] *",
   "language": "python",
   "name": "conda-env-myfastai-py"
  },
  "language_info": {
   "codemirror_mode": {
    "name": "ipython",
    "version": 3
   },
   "file_extension": ".py",
   "mimetype": "text/x-python",
   "name": "python",
   "nbconvert_exporter": "python",
   "pygments_lexer": "ipython3",
   "version": "3.8.5"
  }
 },
 "nbformat": 4,
 "nbformat_minor": 4
}
