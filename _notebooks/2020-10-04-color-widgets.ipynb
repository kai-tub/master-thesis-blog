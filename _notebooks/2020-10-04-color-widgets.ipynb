{
 "cells": [
  {
   "cell_type": "markdown",
   "metadata": {},
   "source": [
    "# Color widgets\n",
    "> I wrote two widgets to play around with channels in images\n",
    "\n",
    "- toc: false\n",
    "- hide: true\n",
    "- badges: false\n",
    "- comments: true\n",
    "- categories: [widgets]"
   ]
  },
  {
   "cell_type": "markdown",
   "metadata": {},
   "source": [
    "# About\n",
    "\n",
    "In the previous two posts we looked at grayscale images, which used a single channel, RGB images with three channels and at multi-spectral images with various channels. I provided *Python* image generating code so you could copy and execute the code locally or run the notebook via the badges on *binder* or *Colab*. Although, this could be valueable for people with the relevant background knowledge or extra time, it may leave out some people.\n",
    "In my opinion, it is crucial to visualize and interact with technical topics to get a *better feel* for it or to be able to look at it from a different angle.\n",
    "\n",
    "Therefore, I will try to introduce some *widgets* from time to time.\n",
    "Due to hosting limitations, these will be slow and may not look as polished *but* they are free of charge for me and allow you to interact with the written widgets. :)\n",
    "\n",
    "It took me some time to find a viable solution, so I will show both widgets here for quick access, but I will also add them to the previous posts."
   ]
  },
  {
   "cell_type": "markdown",
   "metadata": {},
   "source": [
    "<iframe src=\"https://kai-tub.github.io/master-thesis-blog/widgets/nb.html\" title=\"Inline interactive notebook\" allowfullscreen=\"true\" width=\"100%\" height=\"750\"\n",
    "        seamless></iframe>"
   ]
  },
  {
   "source": [
    "<iframe src=\"../../../../widgets/nb.html\" title=\"Inline interactive notebook\" allowfullscreen=\"true\" width=\"100%\" height=\"750\"\n",
    "        seamless></iframe>"
   ],
   "cell_type": "markdown",
   "metadata": {}
  },
  {
   "cell_type": "code",
   "execution_count": null,
   "metadata": {},
   "outputs": [],
   "source": []
  }
 ],
 "metadata": {
  "kernelspec": {
   "name": "Python 3.8.5 64-bit ('myfastai': conda)",
   "display_name": "Python 3.8.5 64-bit ('myfastai': conda)",
   "metadata": {
    "interpreter": {
     "hash": "b3077a077b3ad3d9c61e6df56b6d0eb1345ec3a4769cf083231dd329ffd0169f"
    }
   }
  },
  "language_info": {
   "codemirror_mode": {
    "name": "ipython",
    "version": 3
   },
   "file_extension": ".py",
   "mimetype": "text/x-python",
   "name": "python",
   "nbconvert_exporter": "python",
   "pygments_lexer": "ipython3",
   "version": "3.8.5-final"
  }
 },
 "nbformat": 4,
 "nbformat_minor": 4
}