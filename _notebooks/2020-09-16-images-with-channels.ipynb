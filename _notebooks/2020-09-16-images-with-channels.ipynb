{
 "cells": [
  {
   "cell_type": "markdown",
   "metadata": {},
   "source": [
    "# Introduction to multi-channel images\n",
    "> A short introduction to RGB and remote sensing images. \n",
    "\n",
    "- toc: true \n",
    "- badges: true\n",
    "- comments: true\n",
    "- categories: [images]\n"
   ]
  },
  {
   "cell_type": "code",
   "execution_count": 2,
   "metadata": {},
   "outputs": [],
   "source": [
    "#hide\n",
    "from fastai.vision.all import *\n",
    "path = Path(\".\") \n",
    "(path / \"2020-09-16\").mkdir(exist_ok=True)"
   ]
  },
  {
   "cell_type": "markdown",
   "metadata": {},
   "source": [
    "# About\n",
    "In the previous [post](https://kai-tub.github.io/master-thesis-blog/images/2020/09/02/introduction.html), \n",
    "we took a closer look at grayscale images and how they are encoded on the computer. But these types of images are boring... \n",
    "Images with color are nicer to look at and carry more information for us. In the following, we will examine RGB images and what the difference is between those images and multi-spectral images.\n",
    "\n",
    "## Short recap: Grayscale images\n",
    "To summarize our findings from the previous [post](https://kai-tub.github.io/master-thesis-blog/images/2020/09/02/introduction.html): We have seen that every image consists of pixels. These pixels are nothing more than numbers stored as binary values on the disk. Depending on how many bits we use per pixel, we can tune the number of distinct colors (color-depth). Besides adjusting the color-depth, we also tuned the resolution. With a higher resolution, we can show *more details*. Remember, with a single pixel, we can only encode a single color, but with many pixels, we can capture scenes and objects!\n",
    "\n",
    "## RGB images\n",
    "So how do we add color information to our images? If we think back to art class, we may remember [*primary colors*](https://en.wikipedia.org/wiki/Primary_color). Red, green, and blue can be combined to create any color. Because we work with displays and light emitting from them, we *additively mix* the primary colors.{% fn 1 %} Each of these three colors has its own *channel*. In the previous grayscale examples, there was only a single channel for our gray values.\n",
    "Now we use three channels instead of one. These three channels are *combined* and presented to us in an additive manner. \n",
    "A close-up image of an LCD screen helps us to understand how we *create* colors on our screen."
   ]
  },
  {
   "cell_type": "code",
   "execution_count": 74,
   "metadata": {},
   "outputs": [],
   "source": [
    "#hide\n",
    "lcd_fn = \"2020-09-02/LCD_pixels_RGB.jpg\"\n",
    "download_url(\"https://upload.wikimedia.org/wikipedia/commons/b/b0/LCD_pixels_RGB.jpg\", lcd_fn)"
   ]
  },
  {
   "cell_type": "markdown",
   "metadata": {},
   "source": [
    "<figure>\n",
    "        <div>\n",
    "            <figure>\n",
    "<img src=\"2020-09-16/LCD_pixels_RGB.jpg\" alt=\"LCD subpixels\">\n",
    "            </figure>\n",
    "        </div>\n",
    "    <figcaption><center>Subpixels of an LCD monitor <a href=\"https://en.wikipedia.org/wiki/Primary_color#/media/File:LCD_pixels_RGB.jpg\">(Image from Robnil01, Wikimedia)</a></center></figcaption>\n",
    "</figure>\n",
    "\n",
    "Our color values are once again only binary values on our disk. But if we show them on our LCD screen, each pixel has a red, green, and blue *subpixel*, which are combined to show us the color we want. Now let's start to program and see if we can *mix* some colors with Python!\n",
    "\n",
    "> Note: Now there are different places where we could *put* the color channel dimension. Sadly, almost every library has a different definition of where the color channel, height, and width dimension should be. So always check the library you are using to see how you should lay out the data. Otherwise, you will not get the results you expect! PIL assumes  the following order: W x H x C"
   ]
  },
  {
   "cell_type": "code",
   "execution_count": 64,
   "metadata": {},
   "outputs": [],
   "source": [
    "#collapse\n",
    "import numpy as np\n",
    "from PIL import Image, ImageOps\n",
    "\n",
    "def to_rgb_image(x):\n",
    "    return Image.fromarray(x, mode=\"RGB\")\n",
    "\n",
    "def upscale_image(img, img_width=224, img_height=224):\n",
    "    return img.resize((img_width, img_height), resample=Image.NEAREST)\n",
    "\n",
    "# Let's start with a single pixel but with three channels!\n",
    "# Btw do not forget to set dtype, otherwise the colors will be wrong ;)\n",
    "img_values = {\n",
    "    \"pixel_red\": np.array([255, 0, 0], dtype=np.uint8).reshape(1, 1, 3),\n",
    "    \"pixel_green\": np.array([0, 255, 0], dtype=np.uint8).reshape(1, 1, 3),\n",
    "    \"pixel_blue\": np.array([0, 0, 255], dtype=np.uint8).reshape(1, 1, 3),\n",
    "}\n",
    "\n",
    "for name, value in img_values.items():\n",
    "    img = to_rgb_image(value)\n",
    "    img = upscale_image(img)\n",
    "    bordered_img = ImageOps.expand(img, border=1, fill=\"black\")"
   ]
  },
  {
   "cell_type": "code",
   "execution_count": 61,
   "metadata": {},
   "outputs": [],
   "source": [
    "#hide\n",
    "for name, value in img_values.items():\n",
    "    img = to_rgb_image(value)\n",
    "    img = upscale_image(img)\n",
    "    bordered_img = ImageOps.expand(img, border=1, fill=\"black\")\n",
    "    bordered_img.save(f\"2020-09-16/{name}.png\")"
   ]
  },
  {
   "cell_type": "markdown",
   "metadata": {},
   "source": [
    "<figure>\n",
    "    <div style=\"display: flex; flex-wrap: wrap; justify-content: center\">\n",
    "        <div>\n",
    "            <figure>\n",
    "<img src=\"2020-09-16/pixel_red.png\">\n",
    "            <figcaption><center>Channel 0 -- Red</center></figcaption>\n",
    "            </figure>\n",
    "        </div>\n",
    "        <div>\n",
    "            <figure>\n",
    "<img src=\"2020-09-16/pixel_green.png\">\n",
    "            <figcaption><center>Channel 1 -- Green</center></figcaption>\n",
    "            </figure>\n",
    "        </div>\n",
    "        <div>\n",
    "            <figure>\n",
    "<img src=\"2020-09-16/pixel_blue.png\">\n",
    "            <figcaption><center>Channel 2 -- Blue</center></figcaption>\n",
    "            </figure>\n",
    "        </div>\n",
    "    </div>\n",
    "    <figcaption><center>Visualization of primary color pixels</center></figcaption>\n",
    "</figure>\n"
   ]
  },
  {
   "cell_type": "markdown",
   "metadata": {},
   "source": [
    "Now that we have the three primary colors, we can mix them to get almost any color!\n",
    "Here are some examples:"
   ]
  },
  {
   "cell_type": "code",
   "execution_count": 70,
   "metadata": {},
   "outputs": [],
   "source": [
    "#collapse\n",
    "\n",
    "pixel_values = {\n",
    "    \"black\": [0, 0, 0],\n",
    "    \"white\": [255, 255, 255],\n",
    "    \"red_and_green\": [255, 255, 0],\n",
    "    \"green_and_blue\": [0, 255, 255],\n",
    "    \"all_150\": [150, 150, 150],\n",
    "}\n",
    "\n",
    "for name, p_val in pixel_values.items():\n",
    "    img = to_rgb_image(\n",
    "        np.array(p_val, dtype=np.uint8).reshape(1, 1, 3)\n",
    "    )\n",
    "    img = upscale_image(img)\n",
    "    bordered_img = ImageOps.expand(img, border=1, fill=\"black\")"
   ]
  },
  {
   "cell_type": "code",
   "execution_count": 71,
   "metadata": {},
   "outputs": [],
   "source": [
    "#hide \n",
    "for name, p_val in pixel_values.items():\n",
    "    img = to_rgb_image(\n",
    "        np.array(p_val, dtype=np.uint8).reshape(1, 1, 3)\n",
    "    )\n",
    "    img = upscale_image(img)\n",
    "    bordered_img = ImageOps.expand(img, border=1, fill=\"black\")\n",
    "    bordered_img.save(f\"2020-09-16/{name}.png\")"
   ]
  },
  {
   "cell_type": "markdown",
   "metadata": {},
   "source": [
    "<figure>\n",
    "    <div style=\"display: flex; flex-wrap: wrap; justify-content: center\">\n",
    "        <div>\n",
    "            <figure>\n",
    "<img src=\"2020-09-16/black.png\">\n",
    "            <figcaption><center>All values 0</center></figcaption>\n",
    "            </figure>\n",
    "        </div>\n",
    "        <div>\n",
    "            <figure>\n",
    "<img src=\"2020-09-16/white.png\">\n",
    "            <figcaption><center>All values 255</center></figcaption>\n",
    "            </figure>\n",
    "        </div>\n",
    "        <div>\n",
    "            <figure>\n",
    "<img src=\"2020-09-16/all_150.png\">\n",
    "            <figcaption><center>All values 150</center></figcaption>\n",
    "            </figure>\n",
    "        </div>\n",
    "        <div>\n",
    "            <figure>\n",
    "<img src=\"2020-09-16/red_and_green.png\">\n",
    "            <figcaption><center>Red & Green 255</center></figcaption>\n",
    "            </figure>\n",
    "        </div>\n",
    "        <div>\n",
    "            <figure>\n",
    "<img src=\"2020-09-16/green_and_blue.png\">\n",
    "            <figcaption><center>Green & Blue 255</center></figcaption>\n",
    "            </figure>\n",
    "        </div>\n",
    "    </div>\n",
    "    <figcaption><center>Visualization of different color values</center></figcaption>\n",
    "</figure>\n",
    "\n",
    "You can also play around with the following widget to combine the red (r), green (g), and blue (b) color values to a single RGB color{% fn 2 %}:\n",
    "\n",
    "<iframe src=\"https://kai-tub.github.io/master-thesis-blog/widgets/rgb_widget.html\" title=\"Inline interactive notebook\" allowfullscreen=\"true\" width=\"100%\" height=\"900\" style=\"border:0\"></iframe>"
   ]
  },
  {
   "cell_type": "markdown",
   "metadata": {},
   "source": [
    "If we don't limit ourselves to a single pixel, we can visualize vibrant images, showing us many different objects and scenes. With the extra color information, we can more easily differentiate objects, like flowers or fruits."
   ]
  },
  {
   "cell_type": "code",
   "execution_count": 81,
   "metadata": {},
   "outputs": [
    {
     "data": {
      "text/html": [],
      "text/plain": [
       "<IPython.core.display.HTML object>"
      ]
     },
     "metadata": {},
     "output_type": "display_data"
    }
   ],
   "source": [
    "#hide\n",
    "flowers_fn = \"2020-09-16/flowers.jpg\"\n",
    "download_url(\n",
    "    \"https://p0.pikist.com/photos/205/812/gerber-daisies-colorful-vibrant-flower-floral-daisy-plant-bloom-blossom.jpg\", \n",
    "    flowers_fn\n",
    ")\n",
    "with Image.open(flowers_fn) as flowers:\n",
    "    flowers_gray = flowers.convert(\"L\")\n",
    "    flowers_gray.save(flowers_fn.replace(\".jpg\", \"_gray.jpg\"))"
   ]
  },
  {
   "cell_type": "markdown",
   "metadata": {},
   "source": [
    "<figure>\n",
    "    <div style=\"display: flex; flex-wrap: wrap; justify-content: center\">\n",
    "        <div>\n",
    "            <figure>\n",
    "<img src=\"2020-09-16/flowers_gray.jpg\">\n",
    "            <figcaption><center>Grayscale image</center></figcaption>\n",
    "            </figure>\n",
    "        </div>\n",
    "        <div>\n",
    "            <figure>\n",
    "<img src=\"2020-09-16/flowers.jpg\">\n",
    "            <figcaption><center>RGB image</center></figcaption>\n",
    "            </figure>\n",
    "        </div>\n",
    "    </div>\n",
    "    <figcaption><center>Image with RGB colors vs. grayscale image</center></figcaption>\n",
    "</figure>"
   ]
  },
  {
   "cell_type": "markdown",
   "metadata": {},
   "source": [
    "In the computer vision field, most architectures also work with RGB images. These are the types of images we usually use for everything. The extra color information helps machine learning researches to increase the accuracy of the predictions further. It seems reasonable for us humans to assume that color information improves the prediction performance because it is easier to identify objects if we add color to the image. But for the computer, these are once again nothing more than 0s and 1s. So what would happen if we add more channels?\n",
    "\n",
    "\n",
    "Before we move on, let's summarize what we have learned so far."
   ]
  },
  {
   "cell_type": "markdown",
   "metadata": {},
   "source": [
    "### Summary\n",
    "\n",
    "To summarize the previous section: The LCD screens we are looking at combine red, green, and blue subpixels in each pixel to transform the binary values into colors. These three colors are used because they are primary colors and can be additively combined to create any color. On disk, these values are still nothing more than binary numbers. But now we have three channels and, therefore, three times as many bytes per image compared to a grayscale image. For a 28 x 28 pixels image, we now have 28 x 28 x 3 x color-depth bytes. The extra color information helps us (and neural networks) to identify and differentiate objects."
   ]
  },
  {
   "cell_type": "markdown",
   "metadata": {},
   "source": [
    "## Introduction to remote sensing images\n",
    "In the previous section, we saw how different a grayscale image looks from an RGB image and that it is easier for us to identify and differentiate colored objects. The same holds for neural networks! In the computer vision setting, images are used as input, and the network takes some *action* based on it. For example, we could use it to predict a specific class (dog or cat) or transform the picture (remove people from the scenery). But what would happen if we add more channels? Would the prediction performance still increase?\n",
    "\n",
    "In a field called *remote sensing*  we sometimes use *multi-spectral* images as input images. \n",
    "After [Wikipedia](https://en.wikipedia.org/wiki/Remote_sensing), remote sensing is:\n",
    "> In current usage, the term \"remote sensing\" generally refers to the use of satellite or aircraft-based sensor technologies to detect and classify objects on Earth.\n",
    "\n",
    "So the images used in remote sensing could be classic RGB images from drones used to classify different objects.\n",
    "Here the classes could be building, car, forest, water, fields, etc.\n",
    "With the introduction of *Deep Learning* and neural networks in the field, the processing of a different image type is gaining popularity:  multi-spectral images.\n",
    "\n",
    "To answer what multi-spectral images are, let's take a step back and think about how our RGB images are displayed on an LCD screen. We know that each pixel uses subpixels to *add* them together to a color. The subpixel *shines* in a single color.\n",
    "More accurately, the subpixel emits *electromagnetic waves* in a specific wavelength in the spectrum of visible light. Here, *visible* refers to a spectrum we humans can perceive."
   ]
  },
  {
   "cell_type": "code",
   "execution_count": 3,
   "metadata": {},
   "outputs": [
    {
     "data": {
      "text/html": [],
      "text/plain": [
       "<IPython.core.display.HTML object>"
      ]
     },
     "metadata": {},
     "output_type": "display_data"
    }
   ],
   "source": [
    "#hide\n",
    "bands_fn = \"2020-09-16/bands.png\"\n",
    "download_url(\n",
    "    \"https://upload.wikimedia.org/wikipedia/commons/thumb/3/30/EM_spectrumrevised.png/800px-EM_spectrumrevised.png\", \n",
    "    bands_fn\n",
    ")"
   ]
  },
  {
   "cell_type": "markdown",
   "metadata": {},
   "source": [
    "<figure>\n",
    "    <div style=\"display: flex; flex-wrap: wrap; justify-content: center\">\n",
    "            <figure>\n",
    "<img src=\"2020-09-16/bands.png\" alt=\"Light spectrum\">\n",
    "            <figcaption><center>Electromagnetic spectrum <a href=\"https://en.wikipedia.org/wiki/Electromagnetic_spectrum\">(Image from Wikipedia)</a></center></figcaption>\n",
    "            </figure>\n",
    "    </div>\n",
    "</figure>"
   ]
  },
  {
   "cell_type": "markdown",
   "metadata": {},
   "source": [
    "A blue subpixel mostly emits an electromagnetic wave with a wavelength of around 470nm, which we perceive as blue. That means that the LCD screen does not *add* the different wavelengths together in some way, it only drives the subpixels differently, and for our eyes, it seems like the light of the subpixels have been combined to a specific color. As we have seen previously, if we zoom in on an LCD\n",
    "screen, we can differentiate the subpixels' primary colors again.\n",
    "\n",
    "If our LCD screen would only emit electromagnetic waves outside of the visible spectrum, it would be of little benefit to us humans.\n",
    "But visualizing bands that we aren't able to see is quite helpful! A well-known use case is [thermal imaging](https://en.wikipedia.org/wiki/Thermography). Here the long-infrared band is detected or *sensed* and visualized. The long-infrared band shows us the temperature variations, even if the objects aren't visible to us. The following figure shows us an example."
   ]
  },
  {
   "cell_type": "markdown",
   "metadata": {},
   "source": [
    "<figure>\n",
    "    <div style=\"display: flex; flex-wrap: wrap; justify-content: center\">\n",
    "        <div>\n",
    "            <figure>\n",
    "<img src=\"https://upload.wikimedia.org/wikipedia/commons/9/9b/Human-Visible.jpg\" alt=\"Typical RGB image\">\n",
    "            <figcaption><center>Normal RGB image <a href=\"https://en.wikipedia.org/wiki/Thermography#/media/File:Human-Visible.jpg\">(Image from Wikipedia)</a></center></figcaption>\n",
    "            </figure>\n",
    "        </div>\n",
    "        <div>\n",
    "            <figure>\n",
    "<img src=\"https://upload.wikimedia.org/wikipedia/commons/4/44/Human-Infrared.jpg\" alt=\"Infrared image\">\n",
    "            <figcaption><center>Infrared image <a href=\"https://en.wikipedia.org/wiki/Thermography#/media/File:Human-Infrared.jpg\">(Image from Wikipedia)</a></center></figcaption>\n",
    "            </figure>\n",
    "        </div>\n",
    "    </div>\n",
    "    <figcaption><center>RGB vs. infrared image</center></figcaption>\n",
    "</figure>"
   ]
  },
  {
   "cell_type": "markdown",
   "metadata": {},
   "source": [
    "> Note: Note that the infrared image only focusses on a single band and visualizes it as a *normal* RGB image with an intensity scale next to it."
   ]
  },
  {
   "cell_type": "markdown",
   "metadata": {},
   "source": [
    "If we look at both the RGB and infrared images, we can combine them to get even more information!\n",
    "The combination would count as a multi-spectral image. \n",
    "We do not limit ourselves to three visible light bands and can gain even more insights. What bands are sensed depends on the given sensor and the desired use-case.\n",
    "For example, the [Sentinel-2](https://en.wikipedia.org/wiki/Sentinel-2) satellite takes multi-spectral images with 13 bands in the visible, near-infrared, and short wave infrared part of the spectrum. The next post will take a closer look at how we can load and visualize these remote images. But, before we move on, let's summarize what we have learned so far."
   ]
  },
  {
   "cell_type": "markdown",
   "metadata": {},
   "source": [
    "### Summary\n",
    "We went from grayscale images with a single channel, to RGB images with three channels, to multi-spectral images with more than three channels. These multi-spectral images do not only focus on the visual-spectrum of electromagnetic waves but use even more bands. The main idea is that the information from different bands allows us to learn more about the object or scene.\n",
    "In our previous example, we were able to verify that the person had five fingers on his left hand, even if we weren't able to see it from the visual-spectrum of the light. For my master thesis, I hope that\n",
    "this additional information can be used in multi-spectral remote sensing\n",
    "images to increase neural networks' accuracy and robustness further.\n",
    "\n",
    "But before we dive deep into neural networks, we first need to understand how we can visualize and work with these multi-spectral images, which will be the goal of the next post.\n",
    "\n",
    "Until then, have a productive time! :+1:"
   ]
  },
  {
   "cell_type": "markdown",
   "metadata": {},
   "source": [
    "{{ 'For a more detailed comparison of additive vs. subtractive colors, see the blog post from [thepapermillstore.com](https://blog.thepapermillstore.com/color-theory-additive-subtractive-colors/)' | fndetail: 1 }}\n",
    "\n",
    "{{ 'Sometimes the initialization of the widgets hang. The best solution I found was reopening the same page in Incognito Mode and reloading the page. It can take up to a minute until the widgets are loaded.' | fndetail: 2 }}"
   ]
  },
  {
   "cell_type": "code",
   "execution_count": null,
   "metadata": {},
   "outputs": [],
   "source": []
  }
 ],
 "metadata": {
  "kernelspec": {
   "display_name": "Python [conda env:myfastai] *",
   "language": "python",
   "name": "conda-env-myfastai-py"
  },
  "language_info": {
   "codemirror_mode": {
    "name": "ipython",
    "version": 3
   },
   "file_extension": ".py",
   "mimetype": "text/x-python",
   "name": "python",
   "nbconvert_exporter": "python",
   "pygments_lexer": "ipython3",
   "version": "3.8.5"
  }
 },
 "nbformat": 4,
 "nbformat_minor": 4
}
