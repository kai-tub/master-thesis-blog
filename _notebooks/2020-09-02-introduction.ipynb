{
 "metadata": {
  "orig_nbformat": 2,
  "kernelspec": {
   "name": "python3",
   "display_name": "Python 3"
  }
 },
 "nbformat": 4,
 "nbformat_minor": 2,
 "cells": [
  {
   "cell_type": "markdown",
   "metadata": {},
   "source": [
    "# Introduction to grayscale images\n",
    "> A short introduction to grayscale images and how they are encoded on the computer. \n",
    "\n",
    "- toc: true \n",
    "- badges: true\n",
    "- comments: true\n",
    "- categories: [images]\n",
    "\n"
   ]
  },
  {
   "cell_type": "markdown",
   "metadata": {},
   "source": [
    "# About\n",
    "\n",
    "Before we can dive into multi-spectral satellite images, I think a quick refresher on how images\n",
    "are encoded and represented in memory is a good starting point.\n",
    "\n",
    "## Binary encoding\n",
    "\n",
    "Let's take a short recap of how classical computer vision images are encoded in memory.\n",
    "Internally a computer (ignoring quantum-computing) only works with binary numbers. A binary number is either a 0 or a 1, on or off.\n",
    "The value of such a binary number is called a *bit*.\n",
    "The smallest data-element is called a *byte*. A byte consists of 8 bits.\n",
    "There are different ways how we could use these 8 bits/1 byte to encode our data.\n",
    "The data we are trying to store/load defines how we interpret the data. \n",
    "If we want to only work with positive integers, we use an unsigned integer type.\n",
    "An unsigned integer with 8 bits can encode all numbers from 0$-$255{% fn 1 %}.\n",
    "If all bits are 1, also called *set*, the value is 255.\n",
    "If all bits are 0 the corresponding value is 0.\n",
    "<!-- Show image of bits on/off -->\n",
    "\n",
    "## Grayscale images\n",
    "Images, like everything in a computer, are also only encoded in binary values.\n",
    "The simplest images are grayscale images. The possible colors of each pixel of grayscale images only range from black to gray to white, with all different gray shades in-between. \n",
    "*Pixels* are the basic elements of a picture. The word itself, [pixel](https://en.wikipedia.org/wiki/Pixel#Etymology), is a combination of the words picture and element/cell. So an image consists of pixels similar to how a brick wall consists of bricks.\n",
    "<!-- Image of a brick wall -->\n",
    "\n",
    "With the knowledge of our previous simple encoding scheme, we can understand how simply 8-bit grayscale images are encoded.\n",
    "The 8-bit refers to the [*color-depth*](https://en.wikipedia.org/wiki/Color_depth). It indicates how many bits are used per channel.\n",
    "For a grayscale image, we only have a single channel, the channel ranging from black to white. (We will take a closer look at different channels in the next post.)\n",
    "For now, we note that our grayscale channel is encoded with 8-bits. Or, but differently, we use 8-bits for every pixel to show different shades of gray. With 8-bits we can color each pixel in 256 (2⁸) different ways.\n",
    "<!-- Show a couple of different shades of gray -->\n",
    "\n",
    "Until now, we did not care about the [resolution](https://en.wikipedia.org/wiki/Image_resolution#Pixel_resolution) of our images. \n",
    "The resolution defines how many pixels we use to visualize the object. A resolution of 1 corresponds to a single pixel.\n",
    "But, with a single-pixel picture, we cannot retain a lot of information besides a single shade of gray.\n",
    "So let's increase our resolution for the following images to a width of 224 pixels times a height of 224 pixels.\n",
    "With more pixels we can show more levels of detail.\n",
    "<!-- Show some gradients and an image of an alien -->\n",
    "\n",
    "Even if these images reveal a lot of information to us humans, in the end, they are only stored as 0s and 1s on the computer.\n",
    "Increasing the number of pixels (resolution), allows us to encode more details. The color-depth shows us how many bits\n",
    "we use per channel to encode a color. Our previous 8-bit grayscale pixel can, therefore, encode 256 different shades of gray.\n",
    "But what is when we want to enrich our image with colors?\n",
    "\n",
    "How to add colors to our image and how remote image sensing images are different will be the topic of the next blog post!\n",
    "\n",
    "Until then, have a productive time! :+1:\n"
   ]
  },
  {
   "cell_type": "markdown",
   "metadata": {},
   "source": [
    "{{ 'A quick refresher on how to translate binary numbers to unsigned integers can be found on [ryanstutorials](https://ryanstutorials.net/binary-tutorial/)' | fndetail: 1 }}"
   ]
  },
  {
   "cell_type": "code",
   "execution_count": null,
   "metadata": {},
   "outputs": [],
   "source": []
  }
 ]
}