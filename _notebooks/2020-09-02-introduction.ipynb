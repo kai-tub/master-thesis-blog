{
 "cells": [
  {
   "cell_type": "markdown",
   "metadata": {},
   "source": [
    "# Introduction to grayscale images\n",
    "> A short introduction to grayscale images and how they are encoded on the computer. \n",
    "\n",
    "- toc: true \n",
    "- badges: true\n",
    "- comments: true\n",
    "- categories: [images]\n",
    "\n"
   ]
  },
  {
   "cell_type": "code",
   "execution_count": 1,
   "metadata": {},
   "outputs": [],
   "source": [
    "#hide\n",
    "from fastai.vision.all import *\n",
    "\n",
    "# resize images to x\n",
    "image_size = 224\n",
    "\n",
    "path = Path(\"2020-09-02\")\n",
    "fns = get_image_files(path)\n",
    "for filename in fns:\n",
    "    with Image.open(filename) as img:\n",
    "        resized_img = img.reshape(image_size, image_size)\n",
    "    resized_img.save(filename)"
   ]
  },
  {
   "cell_type": "markdown",
   "metadata": {},
   "source": [
    "# About\n",
    "\n",
    "Before we can dive into multi-spectral satellite images, I think a quick refresher on how images\n",
    "are encoded and represented in memory is a good starting point.\n",
    "\n",
    "## Binary encoding\n",
    "\n",
    "Let's take a short recap of how classical computer vision images are encoded in memory.\n",
    "Internally a computer (ignoring quantum-computing) only works with binary numbers. A binary number is either a 0 or a 1, on or off.\n",
    "The value of such a binary number is called a *bit*.\n",
    "The smallest data-element is called a *byte*. A byte consists of 8 bits.\n",
    "There are different ways how we could use these 8 bits/1 byte to encode our data.\n",
    "The data we are trying to store/load defines how we interpret the data. \n",
    "If we want to only work with positive integers, we use an unsigned integer type.\n",
    "An unsigned integer with 8 bits can encode all numbers from 0$-$255.\n",
    "If all bits are 1, also called *set*, the value is 255.\n",
    "If all bits are 0 the corresponding value is 0.{% fn 1 %}\n",
    "\n",
    "## Grayscale images\n",
    "Images, like everything in a computer, are also only encoded in binary values.\n",
    "The simplest images are grayscale images. The possible colors of each pixel of grayscale images only range from black to gray to white, with all different gray shades in-between. \n",
    "*Pixels* are the basic elements of a picture. The word itself, [pixel](https://en.wikipedia.org/wiki/Pixel#Etymology), is a combination of the words picture and element/cell. So an image consists of pixels similar to how a brick wall consists of bricks."
   ]
  },
  {
   "cell_type": "markdown",
   "metadata": {},
   "source": [
    "<figure>\n",
    "    <div style=\"display: flex; flex-wrap: wrap; justify-content: center\">\n",
    "        <div>\n",
    "            <figure>\n",
    "<img src=\"2020-09-02/brick.jpg\">\n",
    "            <figcaption><center>Pixel</center></figcaption>\n",
    "            </figure>\n",
    "        </div>\n",
    "        <div>\n",
    "            <figure>\n",
    "<img src=\"2020-09-02/brick-wall.jpg\">\n",
    "            <figcaption><center>Complete Image</center></figcaption>\n",
    "            </figure>\n",
    "        </div>\n",
    "    </div>\n",
    "    <figcaption><center>My weird analogy</center></figcaption>\n",
    "</figure>\n",
    "\n",
    "With the knowledge of our previous simple encoding scheme, we can understand how simple 8-bit grayscale images are encoded.\n",
    "The 8-bit refers to the [*color-depth*](https://en.wikipedia.org/wiki/Color_depth). It indicates how many bits are used per channel.\n",
    "For a grayscale image, we only have a single channel, the channel ranging from black to white. (We will take a closer look at different channels in the next post.)\n",
    "For now, we note that our grayscale channel is encoded with 8-bits. Or, put differently, we use 8-bits for every pixel to show different shades of gray. With 8-bits we can color each pixel in 256 (2⁸) different ways.\n",
    "\n",
    "With the [numpy](https://numpy.org/) and [PIL](https://pillow.readthedocs.io/) library \n",
    "we can easily create our own 8-bit grayscale image by simply changing the value of a byte. "
   ]
  },
  {
   "cell_type": "code",
   "execution_count": 5,
   "metadata": {},
   "outputs": [],
   "source": [
    "#collapse\n",
    "import numpy as np\n",
    "from PIL import Image, ImageOps\n",
    "\n",
    "def to_grayscale_image(x):\n",
    "    grayscale_8_bit_mode = \"L\"\n",
    "    return Image.fromarray(x, mode=grayscale_8_bit_mode)\n",
    "\n",
    "def upscale_image(x, img_width=224, img_height=224):\n",
    "    return img.resize((img_width, img_height), resample=Image.BOX)\n",
    "\n",
    "# PIL requires np arrays as input\n",
    "# Datatype is uint8, our unsigned int consisting of 8-bits\n",
    "# zero is our single byte/value with value 0\n",
    "# -> Array has a width and height of 1\n",
    "zero = np.zeros((1, 1), dtype=np.uint8)\n",
    "\n",
    "img_values = {\n",
    "    \"pixel_0\": zero, \n",
    "    \"pixel_64\": zero + 64, \n",
    "    \"pixel_192\": zero + 192, \n",
    "    \"pixel_255\": zero + 255\n",
    "}\n",
    "\n",
    "for name, value in img_values.items():\n",
    "    img = to_grayscale_image(value)\n",
    "    img = upscale_image(img)\n",
    "    img = img.resize((224, 224), resample=Image.NEAREST)\n",
    "    bordered_img = ImageOps.expand(img, border=1, fill=\"black\")\n",
    "    # display(bordered_img) # To display in jupyter\n",
    "    bordered_img.save(f\"2020-09-02/{name}.png\")\n"
   ]
  },
  {
   "cell_type": "markdown",
   "metadata": {},
   "source": [
    "<figure>\n",
    "    <div style=\"display: flex; flex-wrap: wrap; justify-content: center\">\n",
    "        <div>\n",
    "            <figure>\n",
    "<img src=\"2020-09-02/pixel_0.png\">\n",
    "            <figcaption><center>0</center></figcaption>\n",
    "            </figure>\n",
    "        </div>\n",
    "        <div>\n",
    "            <figure>\n",
    "<img src=\"2020-09-02/pixel_64.png\">\n",
    "            <figcaption><center>64</center></figcaption>\n",
    "            </figure>\n",
    "        </div>\n",
    "        <div>\n",
    "            <figure>\n",
    "<img src=\"2020-09-02/pixel_192.png\">\n",
    "            <figcaption><center>192</center></figcaption>\n",
    "            </figure>\n",
    "        </div>\n",
    "        <div>\n",
    "            <figure>\n",
    "<img src=\"2020-09-02/pixel_255.png\">\n",
    "            <figcaption><center>255</center></figcaption>\n",
    "            </figure>\n",
    "        </div>\n",
    "    </div>\n",
    "    <figcaption><center>Visualization of different 8-bit grayscale pixel values</center></figcaption>\n",
    "</figure>\n"
   ]
  },
  {
   "cell_type": "markdown",
   "metadata": {},
   "source": [
    "Until now, we did not care about the [resolution](https://en.wikipedia.org/wiki/Image_resolution#Pixel_resolution) of our images. \n",
    "The resolution defines how many pixels we use to visualize the object. A resolution of 1 corresponds to a single pixel.\n",
    "But, with a single-pixel picture, we cannot retain a lot of information. As shown above, we could only show a single shade of gray\n",
    "So let's increase our resolution for the following images to a width of 224 pixels x a height of 224 pixels.\n",
    "With more pixels we can show more levels of detail.\n",
    "\n",
    "Now we can extend our previous code to draw gradients!"
   ]
  },
  {
   "cell_type": "code",
   "execution_count": 72,
   "metadata": {
    "scrolled": false
   },
   "outputs": [],
   "source": [
    "#collapse\n",
    "zeros = np.zeros((224, 224), dtype=np.uint8)\n",
    "x_gradient = np.arange(0, 224, dtype=np.uint8).reshape(1, 224)\n",
    "y_gradient = np.arange(0, 224, dtype=np.uint8).reshape(224, 1)\n",
    "\n",
    "# Using numpy's broadcasting\n",
    "x_grad_2d = zeros + x_gradient\n",
    "y_grad_2d = zeros + y_gradient\n",
    "sum_grad_2d = x_gradient + y_gradient\n",
    "diff_grad_2d = x_gradient - y_gradient\n",
    "\n",
    "# Convert to grayscale image as before\n",
    "# and save or show files"
   ]
  },
  {
   "cell_type": "code",
   "execution_count": 27,
   "metadata": {},
   "outputs": [],
   "source": [
    "#hide\n",
    "to_grayscale_image(x_grad_2d).save(f\"2020-09-02/x_grad_2d.png\")\n",
    "to_grayscale_image(y_grad_2d).save(f\"2020-09-02/y_grad_2d.png\")\n",
    "to_grayscale_image(sum_grad_2d).save(f\"2020-09-02/sum_grad_2d.png\")\n",
    "to_grayscale_image(diff_grad_2d).save(f\"2020-09-02/diff_grad_2d.png\")"
   ]
  },
  {
   "cell_type": "markdown",
   "metadata": {},
   "source": [
    "<figure>\n",
    "    <div style=\"display: flex; flex-wrap: wrap; justify-content: center\">\n",
    "        <div>\n",
    "            <figure>\n",
    "<img src=\"2020-09-02/x_grad_2d.png\">\n",
    "            </figure>\n",
    "        </div>\n",
    "        <div>\n",
    "            <figure>\n",
    "<img src=\"2020-09-02/y_grad_2d.png\">\n",
    "            </figure>\n",
    "        </div>\n",
    "        <div>\n",
    "            <figure>\n",
    "<img src=\"2020-09-02/sum_grad_2d.png\">\n",
    "            </figure>\n",
    "        </div>\n",
    "        <div>\n",
    "            <figure>\n",
    "<img src=\"2020-09-02/diff_grad_2d.png\">\n",
    "            </figure>\n",
    "        </div>\n",
    "    </div>\n",
    "    <figcaption><center>Visualization of different 8-bit grayscale images</center></figcaption>\n",
    "</figure>\n"
   ]
  },
  {
   "cell_type": "code",
   "execution_count": 62,
   "metadata": {},
   "outputs": [],
   "source": [
    "#hide\n",
    "peppers_fn = \"2020-09-02/peppers.png\"\n",
    "# download_images(\"2020-09-02\", urls=[\"https://upload.wikimedia.org/wikipedia/en/7/7d/Lenna_%28test_image%29.png\"])\n",
    "download_url(\"http://sipi.usc.edu/database/download.php?vol=misc&img=4.2.07\", peppers_fn)\n",
    "with Image.open(peppers_fn) as peppers:\n",
    "    peppers = peppers.resize((224, 224))\n",
    "    peppers_grayscale = peppers.convert(\"L\")\n",
    "peppers_grayscale.save(peppers_fn)"
   ]
  },
  {
   "cell_type": "markdown",
   "metadata": {},
   "source": [
    "If we don't limit ourselves to simple mathematical operations, we can show images with very high details."
   ]
  },
  {
   "cell_type": "markdown",
   "metadata": {},
   "source": [
    "<figure>\n",
    "        <div>\n",
    "            <figure>\n",
    "<img src=\"2020-09-02/peppers.png\">\n",
    "            </figure>\n",
    "        </div>\n",
    "    <figcaption><center>Typical test image</center></figcaption>\n",
    "</figure>\n"
   ]
  },
  {
   "cell_type": "markdown",
   "metadata": {},
   "source": [
    "> Important: Even if these images reveal a lot of information to us humans, in the end, they are only stored as 0s and 1s on the computer."
   ]
  },
  {
   "cell_type": "code",
   "execution_count": 66,
   "metadata": {},
   "outputs": [],
   "source": [
    "#hide\n",
    "with Image.open(peppers_fn) as peppers:\n",
    "    test_image_encoding = np.array(peppers)\n"
   ]
  },
  {
   "cell_type": "markdown",
   "metadata": {},
   "source": [
    "The peppers image consists of the following\n",
    "values. Each value is saved as a single byte\n",
    "on disk."
   ]
  },
  {
   "cell_type": "code",
   "execution_count": 71,
   "metadata": {},
   "outputs": [
    {
     "data": {
      "text/plain": [
       "array([[ 71,  96,  92, ..., 136, 132, 127],\n",
       "       [ 87, 119, 113, ..., 181, 176, 170],\n",
       "       [ 83, 114, 111, ..., 178, 174, 166],\n",
       "       ...,\n",
       "       [ 92, 120, 108, ..., 191, 198, 198],\n",
       "       [ 88, 124, 104, ..., 202, 198, 194],\n",
       "       [ 78, 126, 106, ..., 200, 193, 188]], dtype=uint8)"
      ]
     },
     "execution_count": 71,
     "metadata": {},
     "output_type": "execute_result"
    }
   ],
   "source": [
    "#hide_input\n",
    "test_image_encoding"
   ]
  },
  {
   "cell_type": "markdown",
   "metadata": {},
   "source": [
    "Increasing the number of pixels (resolution), allows us to encode more details. The color-depth shows us how many bits\n",
    "we use per channel to encode a color. Our previous 8-bit grayscale pixel can, therefore, encode 256 different shades of gray.\n",
    "But what is when we want to enrich our image with colors?\n",
    "\n",
    "How to add colors to our image and how remote image sensing images are different will be the topic of the next blog post!\n",
    "\n",
    "Until then, have a productive time! :+1:"
   ]
  },
  {
   "cell_type": "markdown",
   "metadata": {},
   "source": [
    "{{ 'A quick refresher on how to translate binary numbers to unsigned integers can be found on [ryanstutorials](https://ryanstutorials.net/binary-tutorial/)' | fndetail: 1 }}"
   ]
  },
  {
   "cell_type": "code",
   "execution_count": null,
   "metadata": {},
   "outputs": [],
   "source": []
  }
 ],
 "metadata": {
  "kernelspec": {
   "display_name": "Python 3",
   "language": "python",
   "name": "python3"
  },
  "language_info": {
   "codemirror_mode": {
    "name": "ipython",
    "version": 3
   },
   "file_extension": ".py",
   "mimetype": "text/x-python",
   "name": "python",
   "nbconvert_exporter": "python",
   "pygments_lexer": "ipython3",
   "version": "3.8.5"
  }
 },
 "nbformat": 4,
 "nbformat_minor": 2
}
